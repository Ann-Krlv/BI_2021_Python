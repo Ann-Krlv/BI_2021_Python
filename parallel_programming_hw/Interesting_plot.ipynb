{
 "cells": [
  {
   "cell_type": "code",
   "execution_count": 54,
   "id": "565060b2",
   "metadata": {},
   "outputs": [],
   "source": [
    "import random\n",
    "import time\n",
    "import multiprocessing\n",
    "import seaborn as sns\n",
    "import matplotlib.pyplot as plt\n",
    "import psutil"
   ]
  },
  {
   "cell_type": "code",
   "execution_count": 56,
   "id": "800717c9",
   "metadata": {},
   "outputs": [],
   "source": [
    "phys_cpu = psutil.cpu_count(logical = False) # physical cores (2 in my case)\n",
    "threads = psutil.cpu_count() # logical cores (4 in my case)"
   ]
  },
  {
   "cell_type": "code",
   "execution_count": 14,
   "id": "535f20b8",
   "metadata": {},
   "outputs": [],
   "source": [
    "def do_work():\n",
    "    for _ in range(100000):\n",
    "        random.randint(1, 40) ** random.randint(1, 20)"
   ]
  },
  {
   "cell_type": "code",
   "execution_count": 23,
   "id": "166fa029",
   "metadata": {},
   "outputs": [],
   "source": [
    "# decorator\n",
    "def measure_time(func):\n",
    "    def inner_func(*args, **kwargs):\n",
    "        start = time.time()\n",
    "        for _ in range(5):\n",
    "            func(*args, **kwargs)\n",
    "        end = time.time()\n",
    "        return (end - start)/5\n",
    "    return inner_func"
   ]
  },
  {
   "cell_type": "code",
   "execution_count": 28,
   "id": "b3fa0b4e",
   "metadata": {},
   "outputs": [],
   "source": [
    "@measure_time\n",
    "def work_with_n_proc(n_proc):\n",
    "    procs = [multiprocessing.Process(target=do_work) for _ in range(n_proc)]\n",
    "    for proc in procs:\n",
    "        proc.start()\n",
    "    for proc in procs:\n",
    "        proc.join()"
   ]
  },
  {
   "cell_type": "code",
   "execution_count": 63,
   "id": "1aa9d868",
   "metadata": {},
   "outputs": [],
   "source": [
    "result = []"
   ]
  },
  {
   "cell_type": "markdown",
   "id": "e5ae7bcd",
   "metadata": {},
   "source": [
    "Долгий кусок:"
   ]
  },
  {
   "cell_type": "code",
   "execution_count": 64,
   "id": "4a60234c",
   "metadata": {},
   "outputs": [],
   "source": [
    "for i in range(1, threads*2+1):\n",
    "    result.append(work_with_n_proc(i))"
   ]
  },
  {
   "cell_type": "markdown",
   "id": "6b4e0433",
   "metadata": {},
   "source": [
    "### interesting_plot"
   ]
  },
  {
   "cell_type": "code",
   "execution_count": 65,
   "id": "7d6e648f",
   "metadata": {},
   "outputs": [
    {
     "data": {
      "image/png": "[encoded data removed]",
      "text/plain": [
       "<Figure size 432x288 with 1 Axes>"
      ]
     },
     "metadata": {},
     "output_type": "display_data"
    }
   ],
   "source": [
    "sns.set_theme()\n",
    "sns.lineplot(x=[i for i in range(1, threads*2+1)], y=result)\n",
    "plt.ylabel('Execution time, s')\n",
    "plt.xlabel('N processes running')\n",
    "plt.vlines(x=[phys_cpu, threads], color='red', ls='--', ymin=0, ymax=max(result));"
   ]
  },
  {
   "cell_type": "markdown",
   "id": "545181ee",
   "metadata": {},
   "source": [
    "My computer has only 2 physical cores and 4 logical cores (this is reflected in the red lines on the graph).\n",
    "\n",
    "The `do_work` process uses almost exclusively computional(?я имею ввиду модуль сложения) processor power, and therefore occupies the entire physical core. In this case, only two parallel processes are effectively running.\n",
    "\n",
    "Logical threads give an increase in performance, but, in this case, are almost useless (slightly steep growth of the graph between the red lines). A further increase in processes leads to the fact that they will be executed one after another, and multiprocessing in this case will even interfere and increase the program's running time."
   ]
  },
  {
   "cell_type": "code",
   "execution_count": null,
   "id": "ddbbd8ef",
   "metadata": {},
   "outputs": [],
   "source": []
  }
 ],
 "metadata": {
  "kernelspec": {
   "display_name": "Python 3 (ipykernel)",
   "language": "python",
   "name": "python3"
  },
  "language_info": {
   "codemirror_mode": {
    "name": "ipython",
    "version": 3
   },
   "file_extension": ".py",
   "mimetype": "text/x-python",
   "name": "python",
   "nbconvert_exporter": "python",
   "pygments_lexer": "ipython3",
   "version": "3.8.10"
  }
 },
 "nbformat": 4,
 "nbformat_minor": 5
}
