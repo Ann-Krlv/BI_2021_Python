{
 "cells": [
  {
   "cell_type": "code",
   "execution_count": 3,
   "id": "05957011",
   "metadata": {},
   "outputs": [],
   "source": [
    "from Bio.Data import CodonTable\n",
    "from Bio.SeqIO.QualityIO import FastqGeneralIterator\n",
    "import matplotlib.pyplot as plt\n",
    "import seaborn as sns\n",
    "import numpy as np"
   ]
  },
  {
   "cell_type": "markdown",
   "id": "e131ce32",
   "metadata": {},
   "source": [
    "### Task 1\n",
    "\n",
    "I don't have enough imagination, sorry :("
   ]
  },
  {
   "cell_type": "code",
   "execution_count": 34,
   "id": "60607af6",
   "metadata": {},
   "outputs": [],
   "source": [
    "class Student:\n",
    "    def __init__(self, name, age=18, spec='Unknown'):\n",
    "        self.name = name\n",
    "        self.age = age\n",
    "        self.spec = spec\n",
    "        self.hp = 100\n",
    "        self.knowledge = 0\n",
    "\n",
    "    def __str__(self):\n",
    "        return f'Student {self.name}\\nAge: {self.age}\\nSpecialization: {self.spec}'\n",
    "\n",
    "    def drink_beer(self, n_pints=1):\n",
    "        self.hp += n_pints * 10\n",
    "        self.knowledge -= 10 * (2**(n_pints - 1))\n",
    "\n",
    "    def to_study(self, n_hours=1):\n",
    "        self.knowledge += n_hours * 10\n",
    "        self.hp -= 10 * (2 ** (n_hours - 1))\n",
    "\n",
    "    def check_status(self):\n",
    "        if self.hp < 0:\n",
    "            return 'Dead', [self.hp, self.knowledge]\n",
    "        elif self.knowledge < 0:\n",
    "            return f'Otchisleno', self.hp, self.knowledge\n",
    "        else:\n",
    "            return 'Lives and studies', self.hp, self.knowledge"
   ]
  },
  {
   "cell_type": "markdown",
   "id": "7d8be780",
   "metadata": {},
   "source": [
    "#### Exapmle"
   ]
  },
  {
   "cell_type": "code",
   "execution_count": 38,
   "id": "c28b1d73",
   "metadata": {
    "scrolled": true
   },
   "outputs": [
    {
     "name": "stdout",
     "output_type": "stream",
     "text": [
      "Student Tom\n",
      "Age: 21\n",
      "Specialization: Bioinformatic\n"
     ]
    },
    {
     "data": {
      "text/plain": [
       "('Lives and studies', 100, 0)"
      ]
     },
     "execution_count": 38,
     "metadata": {},
     "output_type": "execute_result"
    }
   ],
   "source": [
    "student1 = Student('Tom', age=21, spec='Bioinformatic')\n",
    "student2 = Student('Jerry', spec='Bioinformatic')\n",
    "print(student1)\n",
    "student1.check_status()"
   ]
  },
  {
   "cell_type": "code",
   "execution_count": 39,
   "id": "bd1fae5f",
   "metadata": {},
   "outputs": [
    {
     "data": {
      "text/plain": [
       "('Lives and studies', 80, 10)"
      ]
     },
     "execution_count": 39,
     "metadata": {},
     "output_type": "execute_result"
    }
   ],
   "source": [
    "student1.to_study(3)\n",
    "student1.drink_beer(2)\n",
    "student1.check_status()"
   ]
  },
  {
   "cell_type": "code",
   "execution_count": 40,
   "id": "2c446f07",
   "metadata": {},
   "outputs": [
    {
     "data": {
      "text/plain": [
       "('Otchisleno', 140, -150)"
      ]
     },
     "execution_count": 40,
     "metadata": {},
     "output_type": "execute_result"
    }
   ],
   "source": [
    "student2.to_study(1)\n",
    "student2.drink_beer(5)\n",
    "student2.check_status()"
   ]
  },
  {
   "cell_type": "markdown",
   "id": "2459ff44",
   "metadata": {},
   "source": [
    "### Task 2"
   ]
  },
  {
   "cell_type": "code",
   "execution_count": 21,
   "id": "850dbec6",
   "metadata": {},
   "outputs": [],
   "source": [
    "class RNA:\n",
    "    codons = CodonTable.ambiguous_rna_by_id[1]\n",
    "    permitted_rna_nucleotides = {'A', 'G', 'C', 'U'}\n",
    "\n",
    "    def __init__(self, seq):\n",
    "        self.seq = seq.upper()\n",
    "\n",
    "    def translate(self, r_frame=0, to_stop=False):\n",
    "        prot_chain = ''\n",
    "        for nucl in range(r_frame, len(self.seq), 3):\n",
    "            if len(self.seq[nucl:(nucl + 3)]) < 3:\n",
    "                return prot_chain\n",
    "            if self.seq[nucl:(nucl + 3)] in self.codons.stop_codons:\n",
    "                if to_stop:\n",
    "                    return prot_chain\n",
    "                else:\n",
    "                    prot_chain += '*'\n",
    "            else:\n",
    "                prot_chain += self.codons.forward_table[self.seq[nucl:(nucl + 3)]]\n",
    "        return prot_chain\n",
    "    \n",
    "    def reverse_transcript(self):\n",
    "        if len(set(self.seq).difference(self.permitted_rna_nucleotides)) == 0:\n",
    "            return self.seq.replace('U', 'T')\n",
    "        else:\n",
    "            raise ValueError(f'Unknown nucleotides in the sequence: '\n",
    "                             f'{set(self.seq).difference(self.permitted_rna_nucleotides)}')"
   ]
  },
  {
   "cell_type": "markdown",
   "id": "bd7da27c",
   "metadata": {},
   "source": [
    "#### Example"
   ]
  },
  {
   "cell_type": "code",
   "execution_count": 24,
   "id": "2b791ed5",
   "metadata": {},
   "outputs": [
    {
     "name": "stdout",
     "output_type": "stream",
     "text": [
      "ATGGCCATTGTAATGGGCCGCTGAAAGGGTGCCCGATAG\n",
      "MAIVMGR*KGAR*\n",
      "MAIVMGR\n",
      "WPL*WAAERVPD\n"
     ]
    }
   ],
   "source": [
    "rna = RNA('AUGGCCAUUGUAAUGGGCCGCUgAAAGGGUGCCCGAUAG')\n",
    "print(rna.reverse_transcript())\n",
    "print(rna.translate())\n",
    "print(rna.translate(to_stop=True))\n",
    "print(rna.translate(r_frame=1))"
   ]
  },
  {
   "cell_type": "markdown",
   "id": "39cb836e",
   "metadata": {},
   "source": [
    "### Task 3"
   ]
  },
  {
   "cell_type": "code",
   "execution_count": 6,
   "id": "74550e1d",
   "metadata": {},
   "outputs": [],
   "source": [
    "class PositiveSet(set):\n",
    "    def __init__(self, lst):\n",
    "        super().__init__([i for i in lst if i > 0])\n",
    "\n",
    "    def add(self, other):\n",
    "        if other > 0:\n",
    "            super().add(other)"
   ]
  },
  {
   "cell_type": "markdown",
   "id": "1a293d25",
   "metadata": {},
   "source": [
    "#### Example"
   ]
  },
  {
   "cell_type": "code",
   "execution_count": 26,
   "id": "e51e18db",
   "metadata": {},
   "outputs": [
    {
     "data": {
      "text/plain": [
       "{1, 2, 3, 30}"
      ]
     },
     "execution_count": 26,
     "metadata": {},
     "output_type": "execute_result"
    }
   ],
   "source": [
    "a = PositiveSet([1, 3, 2, -17, 30, -162])\n",
    "a"
   ]
  },
  {
   "cell_type": "code",
   "execution_count": 27,
   "id": "032dd484",
   "metadata": {},
   "outputs": [
    {
     "data": {
      "text/plain": [
       "{1, 2, 3, 27, 30}"
      ]
     },
     "execution_count": 27,
     "metadata": {},
     "output_type": "execute_result"
    }
   ],
   "source": [
    "a.add(27)\n",
    "a.add(1)\n",
    "a.add(-123)\n",
    "a"
   ]
  },
  {
   "cell_type": "markdown",
   "id": "5ac457c2",
   "metadata": {},
   "source": [
    "### Task 4\n",
    "\n",
    "Did not optimized for big fasq files"
   ]
  },
  {
   "cell_type": "code",
   "execution_count": 28,
   "id": "73a79254",
   "metadata": {},
   "outputs": [],
   "source": [
    "class FastQ:\n",
    "    reads = []\n",
    "    n_reads = 0\n",
    "\n",
    "    def __init__(self, path):\n",
    "        self.path = path\n",
    "        with open(path) as in_handle:\n",
    "            for read in FastqGeneralIterator(in_handle):\n",
    "                self.reads.append(read[1])\n",
    "                self.n_reads += 1\n",
    "\n",
    "    def __str__(self):\n",
    "        return f'FastQC file: {self.path}'\n",
    "\n",
    "    def count_reads(self):\n",
    "        return self.n_reads\n",
    "\n",
    "    def len_histplot(self):\n",
    "        len_array = np.zeros(self.n_reads)\n",
    "        for i in range(self.n_reads):\n",
    "            len_array[i] = len(self.reads[i])\n",
    "        sns.histplot(len_array, discrete=True)\n",
    "        plt.title('Read length distribution')\n",
    "        plt.show()\n",
    "\n",
    "    def gc_percentage(self):\n",
    "        gc_content = np.zeros(self.n_reads)\n",
    "        for i in range(self.n_reads):\n",
    "            gc_content[i] = ((self.reads[i].count('G') + self.reads[i].count('C')) / len(self.reads[i]))\n",
    "        return np.mean(gc_content) * 100\n",
    "\n",
    "    def k_mers_freq_histplot(self, k=4):\n",
    "        k_mers = {}\n",
    "        for read in self.reads:\n",
    "            for i in range(len(read) - k + 1):\n",
    "                k_mer = read[i:(i + k)]\n",
    "                if len(set(k_mer).difference(set('AGCT'))) != 0:\n",
    "                    # because there are a lot of files with N or R nucleotides \n",
    "                    # that increase the number of variants until several hundred:\n",
    "                    continue\n",
    "                elif k_mer not in k_mers:\n",
    "                    k_mers[k_mer] = 1\n",
    "                else:\n",
    "                    k_mers[k_mer] += 1\n",
    "        plt.bar(x=k_mers.keys(), height=k_mers.values())\n",
    "        plt.title(f'Distribution of k-mers (with k={k})')\n",
    "        plt.show()\n",
    "\n",
    "    def show_stats(self):\n",
    "        # just run all methods\n",
    "        print(f'Number of reads: {self.n_reads}\\n'\n",
    "              f'GC percentage: {round(self.gc_percentage(), 2)}%')\n",
    "        self.len_histplot()\n",
    "        self.k_mers_freq_histplot()"
   ]
  },
  {
   "cell_type": "markdown",
   "id": "c0c49e40",
   "metadata": {},
   "source": [
    "#### Example"
   ]
  },
  {
   "cell_type": "code",
   "execution_count": 29,
   "id": "d21225a5",
   "metadata": {},
   "outputs": [
    {
     "name": "stdout",
     "output_type": "stream",
     "text": [
      "FastQC file: ./1.fastq\n"
     ]
    }
   ],
   "source": [
    "fastq = FastQ('./1.fastq')\n",
    "print(fastq)"
   ]
  },
  {
   "cell_type": "code",
   "execution_count": 30,
   "id": "babeb927",
   "metadata": {},
   "outputs": [
    {
     "name": "stdout",
     "output_type": "stream",
     "text": [
      "Number of reads: 100000\n",
      "GC percentage: 48.24%\n"
     ]
    },
    {
     "data": {
      "image/png": "[encoded data removed]",
      "text/plain": [
       "<Figure size 432x288 with 1 Axes>"
      ]
     },
     "metadata": {
      "needs_background": "light"
     },
     "output_type": "display_data"
    },
    {
     "data": {
      "image/png": "[encoded data removed]",
      "text/plain": [
       "<Figure size 432x288 with 1 Axes>"
      ]
     },
     "metadata": {
      "needs_background": "light"
     },
     "output_type": "display_data"
    }
   ],
   "source": [
    "fastq.show_stats()"
   ]
  },
  {
   "cell_type": "code",
   "execution_count": null,
   "id": "7fcdb767",
   "metadata": {},
   "outputs": [],
   "source": []
  }
 ],
 "metadata": {
  "kernelspec": {
   "display_name": "Python 3 (ipykernel)",
   "language": "python",
   "name": "python3"
  },
  "language_info": {
   "codemirror_mode": {
    "name": "ipython",
    "version": 3
   },
   "file_extension": ".py",
   "mimetype": "text/x-python",
   "name": "python",
   "nbconvert_exporter": "python",
   "pygments_lexer": "ipython3",
   "version": "3.8.10"
  }
 },
 "nbformat": 4,
 "nbformat_minor": 5
}
